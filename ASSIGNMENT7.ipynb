{
 "cells": [
  {
   "cell_type": "markdown",
   "id": "8fe8ea91-8185-4f56-988e-55d67b524525",
   "metadata": {},
   "source": [
    "# exercise 1"
   ]
  },
  {
   "cell_type": "code",
   "execution_count": 6,
   "id": "f0c5296d-07b5-46d0-8ef0-0e9cacc443bb",
   "metadata": {},
   "outputs": [
    {
     "name": "stdout",
     "output_type": "stream",
     "text": [
      "[[ 1  2  3  4  5]\n",
      " [ 6  7  8  9 10]]\n"
     ]
    }
   ],
   "source": [
    "import numpy as np\n",
    "\n",
    "# Create a NumPy array containing numbers from 1 to 10\n",
    "arr = np.arange(1, 11)\n",
    "\n",
    "# Reshape the array to a 2x5 matrix\n",
    "reshaped_arr = arr.reshape(2, 5)\n",
    "\n",
    "print(reshaped_arr)\n"
   ]
  },
  {
   "cell_type": "code",
   "execution_count": 7,
   "id": "c977055c-6e1a-45a5-bb11-227729bfd234",
   "metadata": {},
   "outputs": [
    {
     "name": "stdout",
     "output_type": "stream",
     "text": [
      "[ 6  7  8  9 10 11 12 13 14 15]\n"
     ]
    }
   ],
   "source": [
    "import numpy as np\n",
    "\n",
    "# Create a NumPy array containing numbers from 1 to 20\n",
    "arr = np.arange(1, 21)\n",
    "\n",
    "# Extract elements between the 5th and 15th index (excluding 15th index)\n",
    "extracted_elements = arr[5:15]\n",
    "\n",
    "print(extracted_elements)\n"
   ]
  },
  {
   "cell_type": "code",
   "execution_count": 8,
   "id": "1ccd7428-5fe8-4494-932b-681a7a7f06f8",
   "metadata": {},
   "outputs": [
    {
     "name": "stdout",
     "output_type": "stream",
     "text": [
      "apples     3\n",
      "bananas    2\n",
      "oranges    1\n",
      "pears      4\n",
      "dtype: int64\n"
     ]
    }
   ],
   "source": [
    "import pandas as pd\n",
    "\n",
    "# Create a Pandas Series with the given data\n",
    "fruits = pd.Series({'apples': 3, 'bananas': 2, 'oranges': 1})\n",
    "\n",
    "# Add a new item to the series\n",
    "fruits['pears'] = 4\n",
    "\n",
    "print(fruits)\n"
   ]
  },
  {
   "cell_type": "code",
   "execution_count": 9,
   "id": "c9ca6864-c5f6-436f-b39f-c64d8285f523",
   "metadata": {},
   "outputs": [
    {
     "name": "stdout",
     "output_type": "stream",
     "text": [
      "      name  age gender\n",
      "0    Alice   25      F\n",
      "1      Bob   32      M\n",
      "2  Charlie   29      M\n",
      "3    David   40      M\n",
      "4      Eve   23      F\n",
      "5    Frank   35      M\n",
      "6    Grace   27      F\n",
      "7   Hannah   30      F\n",
      "8      Ian   26      M\n",
      "9     Jack   31      M\n"
     ]
    }
   ],
   "source": [
    "import pandas as pd\n",
    "\n",
    "# Create a DataFrame with 10 rows of data\n",
    "data = {\n",
    "    'name': ['Alice', 'Bob', 'Charlie', 'David', 'Eve', 'Frank', 'Grace', 'Hannah', 'Ian', 'Jack'],\n",
    "    'age': [25, 32, 29, 40, 23, 35, 27, 30, 26, 31],\n",
    "    'gender': ['F', 'M', 'M', 'M', 'F', 'M', 'F', 'F', 'M', 'M']\n",
    "}\n",
    "\n",
    "df = pd.DataFrame(data)\n",
    "\n",
    "print(df)\n"
   ]
  },
  {
   "cell_type": "code",
   "execution_count": 10,
   "id": "aaad9a29-3b1f-47b4-8f7a-431937225920",
   "metadata": {},
   "outputs": [
    {
     "name": "stdout",
     "output_type": "stream",
     "text": [
      "      name  age gender  occupation\n",
      "0    Alice   25      F  Programmer\n",
      "1      Bob   32      M     Manager\n",
      "2  Charlie   29      M     Analyst\n",
      "3    David   40      M  Programmer\n",
      "4      Eve   23      F     Manager\n",
      "5    Frank   35      M     Analyst\n",
      "6    Grace   27      F  Programmer\n",
      "7   Hannah   30      F     Manager\n",
      "8      Ian   26      M     Analyst\n",
      "9     Jack   31      M  Programmer\n"
     ]
    }
   ],
   "source": [
    "# Add a new column \"occupation\" to the DataFrame\n",
    "df['occupation'] = ['Programmer', 'Manager', 'Analyst', 'Programmer', 'Manager', \n",
    "                    'Analyst', 'Programmer', 'Manager', 'Analyst', 'Programmer']\n",
    "\n",
    "print(df)\n"
   ]
  },
  {
   "cell_type": "code",
   "execution_count": 12,
   "id": "4483f9b1-48bb-4229-9331-c4419619832f",
   "metadata": {},
   "outputs": [
    {
     "name": "stdout",
     "output_type": "stream",
     "text": [
      "     name  age gender  occupation\n",
      "1     Bob   32      M     Manager\n",
      "3   David   40      M  Programmer\n",
      "5   Frank   35      M     Analyst\n",
      "7  Hannah   30      F     Manager\n",
      "9    Jack   31      M  Programmer\n"
     ]
    }
   ],
   "source": [
    "# Select rows where age is greater than or equal to 30\n",
    "df_filtered = df[df[\"age\"] >= 30]\n",
    "\n",
    "print(df_filtered)\n"
   ]
  },
  {
   "cell_type": "code",
   "execution_count": 13,
   "id": "1bded45f-c338-4075-a3e4-fac1109cf50a",
   "metadata": {},
   "outputs": [
    {
     "name": "stdout",
     "output_type": "stream",
     "text": [
      "      name  age gender  occupation\n",
      "0    Alice   25      F  Programmer\n",
      "1      Bob   32      M     Manager\n",
      "2  Charlie   29      M     Analyst\n",
      "3    David   40      M  Programmer\n",
      "4      Eve   23      F     Manager\n",
      "5    Frank   35      M     Analyst\n",
      "6    Grace   27      F  Programmer\n",
      "7   Hannah   30      F     Manager\n",
      "8      Ian   26      M     Analyst\n",
      "9     Jack   31      M  Programmer\n"
     ]
    }
   ],
   "source": [
    "# Save the DataFrame to a CSV file\n",
    "csv_filename = \"dataframe.csv\"\n",
    "df.to_csv(csv_filename, index=False)\n",
    "\n",
    "# Read the CSV file\n",
    "df_from_csv = pd.read_csv(csv_filename)\n",
    "\n",
    "# Display the contents of the CSV file\n",
    "print(df_from_csv)\n"
   ]
  },
  {
   "cell_type": "code",
   "execution_count": null,
   "id": "bdc48f00-2cfb-49ab-b000-013084ce2f1f",
   "metadata": {},
   "outputs": [],
   "source": []
  }
 ],
 "metadata": {
  "kernelspec": {
   "display_name": "Python 3 (ipykernel)",
   "language": "python",
   "name": "python3"
  },
  "language_info": {
   "codemirror_mode": {
    "name": "ipython",
    "version": 3
   },
   "file_extension": ".py",
   "mimetype": "text/x-python",
   "name": "python",
   "nbconvert_exporter": "python",
   "pygments_lexer": "ipython3",
   "version": "3.12.7"
  }
 },
 "nbformat": 4,
 "nbformat_minor": 5
}
