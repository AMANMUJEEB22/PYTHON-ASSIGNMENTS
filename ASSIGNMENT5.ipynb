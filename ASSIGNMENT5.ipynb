{
 "cells": [
  {
   "cell_type": "markdown",
   "id": "4dad3de6-fb97-4a51-b996-15ac1dfdccb7",
   "metadata": {},
   "source": [
    "# Exercise1"
   ]
  },
  {
   "cell_type": "code",
   "execution_count": 2,
   "id": "5f60b930-842c-41bd-88d8-03721190af7c",
   "metadata": {},
   "outputs": [
    {
     "name": "stdin",
     "output_type": "stream",
     "text": [
      "Enter the file name:  aman\n"
     ]
    },
    {
     "name": "stdout",
     "output_type": "stream",
     "text": [
      "Error: The file does not exist.\n"
     ]
    }
   ],
   "source": [
    "# Function to read and display file contents\n",
    "def read_file(filename):\n",
    "    try:\n",
    "        with open(filename, 'r') as file:\n",
    "            contents = file.read()\n",
    "            print(contents)\n",
    "    except FileNotFoundError:\n",
    "        print(\"Error: The file does not exist.\")\n",
    "    except Exception as e:\n",
    "        print(f\"An error occurred: {e}\")\n",
    "\n",
    "# Provide the file name\n",
    "filename = input(\"Enter the file name: \")\n",
    "read_file(filename)\n"
   ]
  },
  {
   "cell_type": "markdown",
   "id": "39d2cda6-feae-482f-91f2-d29b02cb62ad",
   "metadata": {},
   "source": [
    "# exercise 2"
   ]
  },
  {
   "cell_type": "code",
   "execution_count": 8,
   "id": "a74914dc-ca16-4b9e-8e70-5ff060e15da9",
   "metadata": {},
   "outputs": [
    {
     "name": "stdin",
     "output_type": "stream",
     "text": [
      "Enter the source file name:  r\n",
      "Enter the destination file name:  w\n"
     ]
    },
    {
     "name": "stdout",
     "output_type": "stream",
     "text": [
      "Error: The source file does not exist.\n"
     ]
    }
   ],
   "source": [
    "# Function to copy file contents\n",
    "def copy_file(source_file, destination_file):\n",
    "    try:\n",
    "        with open(source_file, 'r') as src, open(destination_file, 'w') as dest:\n",
    "            dest.write(src.read())\n",
    "        print(f\"Contents copied from '{source_file}' to '{destination_file}' successfully.\")\n",
    "    except FileNotFoundError:\n",
    "        print(\"Error: The source file does not exist.\")\n",
    "    except Exception as e:\n",
    "        print(f\"An error occurred: {e}\")\n",
    "\n",
    "# Get file names from user\n",
    "source = input(\"Enter the source file name: \")\n",
    "destination = input(\"Enter the destination file name: \")\n",
    "\n",
    "# Call the function\n",
    "copy_file(source, destination)\n"
   ]
  },
  {
   "cell_type": "markdown",
   "id": "efac16cd-9345-4629-b8d5-84ef4a1423b6",
   "metadata": {},
   "source": [
    "# exercise3"
   ]
  },
  {
   "cell_type": "code",
   "execution_count": 10,
   "id": "190c247e-ed4b-44f5-bae0-a7df7cdc049e",
   "metadata": {},
   "outputs": [
    {
     "name": "stdin",
     "output_type": "stream",
     "text": [
      "Enter the file name:  'r'\n"
     ]
    },
    {
     "name": "stdout",
     "output_type": "stream",
     "text": [
      "Error: The file does not exist.\n"
     ]
    }
   ],
   "source": [
    "# Function to count words in a file\n",
    "def count_words(filename):\n",
    "    try:\n",
    "        with open(filename, 'r') as file:\n",
    "            contents = file.read()\n",
    "            words = contents.split()  # Splitting text into words\n",
    "            word_count = len(words)\n",
    "            print(f\"Total number of words in '{filename}': {word_count}\")\n",
    "    except FileNotFoundError:\n",
    "        print(\"Error: The file does not exist.\")\n",
    "    except Exception as e:\n",
    "        print(f\"An error occurred: {e}\")\n",
    "\n",
    "# Get the file name from the user\n",
    "filename = input(\"Enter the file name: \")\n",
    "\n",
    "# Call the function\n",
    "count_words(filename)\n"
   ]
  },
  {
   "cell_type": "markdown",
   "id": "f6652187-06a3-44f7-b010-0074f2bf5eb1",
   "metadata": {},
   "source": [
    "# exercsie4\n"
   ]
  },
  {
   "cell_type": "code",
   "execution_count": 6,
   "id": "3c33c86a-85e5-4f8e-9a2c-e0e8c60c5c72",
   "metadata": {},
   "outputs": [
    {
     "name": "stdin",
     "output_type": "stream",
     "text": [
      "Enter a number:  5\n"
     ]
    },
    {
     "name": "stdout",
     "output_type": "stream",
     "text": [
      "Converted integer: 5\n"
     ]
    }
   ],
   "source": [
    "# Function to convert string to integer\n",
    "def convert_to_integer():\n",
    "    try:\n",
    "        user_input = input(\"Enter a number: \")\n",
    "        num = int(user_input)  # Attempt conversion\n",
    "        print(f\"Converted integer: {num}\")\n",
    "    except ValueError:\n",
    "        print(\"Error: Invalid input! Please enter a valid integer.\")\n",
    "    except Exception as e:\n",
    "        print(f\"An unexpected error occurred: {e}\")\n",
    "\n",
    "# Call the function\n",
    "convert_to_integer()\n"
   ]
  },
  {
   "cell_type": "markdown",
   "id": "10001040-12d2-4350-bdd8-1036d90a1244",
   "metadata": {},
   "source": [
    "# exercsie5"
   ]
  },
  {
   "cell_type": "code",
   "execution_count": 9,
   "id": "7f1ee133-91a3-470e-ac2d-d70e9eb60e40",
   "metadata": {},
   "outputs": [
    {
     "name": "stdin",
     "output_type": "stream",
     "text": [
      "Enter a list of integers separated by spaces:  1 2 3 4\n"
     ]
    },
    {
     "name": "stdout",
     "output_type": "stream",
     "text": [
      "All numbers are positive!\n"
     ]
    }
   ],
   "source": [
    "# Function to check for negative numbers in the list\n",
    "def check_positive_numbers():\n",
    "    try:\n",
    "        # Taking input from the user and converting it into a list of integers\n",
    "        numbers = list(map(int, input(\"Enter a list of integers separated by spaces: \").split()))\n",
    "        \n",
    "        # Check if any number is negative\n",
    "        for num in numbers:\n",
    "            if num < 0:\n",
    "                raise ValueError(f\"Negative number found: {num}\")\n",
    "        \n",
    "        print(\"All numbers are positive!\")\n",
    "    \n",
    "    except ValueError as e:\n",
    "        print(f\"Error: {e}\")\n",
    "    except Exception as e:\n",
    "        print(f\"An unexpected error occurred: {e}\")\n",
    "\n",
    "# Call the function\n",
    "check_positive_numbers()\n",
    "\n"
   ]
  },
  {
   "cell_type": "markdown",
   "id": "3bc6fa39-8f9c-46a1-9f5a-2116674dc41b",
   "metadata": {},
   "source": [
    "# exercise6"
   ]
  },
  {
   "cell_type": "code",
   "execution_count": 11,
   "id": "9fcc47f2-5cd6-4db9-b434-c221699bd7c4",
   "metadata": {},
   "outputs": [
    {
     "name": "stdin",
     "output_type": "stream",
     "text": [
      "Enter a list of integers separated by spaces:  5 8 7 9\n"
     ]
    },
    {
     "name": "stdout",
     "output_type": "stream",
     "text": [
      "The average of the given numbers is: 7.25\n",
      "Program execution finished.\n"
     ]
    }
   ],
   "source": [
    "# Function to compute the average of a list of integers\n",
    "def compute_average():\n",
    "    try:\n",
    "        # Taking input from the user and converting it into a list of integers\n",
    "        numbers = list(map(int, input(\"Enter a list of integers separated by spaces: \").split()))\n",
    "        \n",
    "        # Check if the list is empty\n",
    "        if not numbers:\n",
    "            raise ValueError(\"The list cannot be empty.\")\n",
    "        \n",
    "        # Calculate the average\n",
    "        avg = sum(numbers) / len(numbers)\n",
    "        print(f\"The average of the given numbers is: {avg:.2f}\")\n",
    "\n",
    "    except ValueError as e:\n",
    "        print(f\"Error: {e}\")\n",
    "    except ZeroDivisionError:\n",
    "        print(\"Error: Cannot divide by zero (empty list).\")\n",
    "    except Exception as e:\n",
    "        print(f\"An unexpected error occurred: {e}\")\n",
    "    finally:\n",
    "        print(\"Program execution finished.\")\n",
    "\n",
    "# Call the function\n",
    "compute_average()\n"
   ]
  },
  {
   "cell_type": "markdown",
   "id": "989b637c-fb7e-494d-8742-523ee6085de6",
   "metadata": {},
   "source": [
    "# exercise7"
   ]
  },
  {
   "cell_type": "code",
   "execution_count": null,
   "id": "9d67093a-4b82-423b-b726-b67d4fe136e8",
   "metadata": {},
   "outputs": [],
   "source": [
    "# Function to write a string to a file\n",
    "def write_to_file():\n",
    "    try:\n",
    "        # Get the filename from the user\n",
    "        filename = input(\"Enter the filename: \")\n",
    "\n",
    "        # Get the content to write\n",
    "        content = input(\"Enter the text to write into the file: \")\n",
    "\n",
    "        # Open the file in write mode and write the content\n",
    "        with open(filename, 'w') as file:\n",
    "            file.write(content)\n",
    "        \n",
    "        # Print a success message\n",
    "        print(\"File written successfully! Welcome!\")\n",
    "\n",
    "    except FileNotFoundError:\n",
    "        print(\"Error: The specified file path is invalid.\")\n",
    "    except PermissionError:\n",
    "        print(\"Error: Permission denied. Cannot write to this file.\")\n",
    "    except Exception as e:\n",
    "        print(f\"An unexpected error occurred: {e}\")\n",
    "\n",
    "# Call the function\n",
    "write_to_file()\n"
   ]
  },
  {
   "cell_type": "code",
   "execution_count": null,
   "id": "651877df-648d-4522-a97f-75b6a9a73671",
   "metadata": {},
   "outputs": [],
   "source": []
  }
 ],
 "metadata": {
  "kernelspec": {
   "display_name": "Python 3 (ipykernel)",
   "language": "python",
   "name": "python3"
  },
  "language_info": {
   "codemirror_mode": {
    "name": "ipython",
    "version": 3
   },
   "file_extension": ".py",
   "mimetype": "text/x-python",
   "name": "python",
   "nbconvert_exporter": "python",
   "pygments_lexer": "ipython3",
   "version": "3.12.7"
  }
 },
 "nbformat": 4,
 "nbformat_minor": 5
}
