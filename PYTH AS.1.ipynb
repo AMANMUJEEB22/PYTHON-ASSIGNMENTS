{
 "cells": [
  {
   "cell_type": "markdown",
   "id": "fe183d6d-0e2c-4a15-8815-c83ef52ce32a",
   "metadata": {},
   "source": [
    "# Exercise 1"
   ]
  },
  {
   "cell_type": "code",
   "execution_count": 2,
   "id": "467b6ef8-a136-4c53-8684-a899de352b25",
   "metadata": {},
   "outputs": [
    {
     "name": "stdout",
     "output_type": "stream",
     "text": [
      "NAME: AMAN MUJEEB\n",
      "student_number: ICE20ME006\n",
      "email: amanmujeeb@gmail.com\n"
     ]
    }
   ],
   "source": [
    "# Define your name, student number, and email\n",
    "name = \"AMAN MUJEEB\"\n",
    "student_number = \"ICE20ME006\"\n",
    "email = \"amanmujeeb@gmail.com\"\n",
    "print(\"NAME:\",name)\n",
    "print(\"student_number:\",student_number)\n",
    "print(\"email:\",email)"
   ]
  },
  {
   "cell_type": "markdown",
   "id": "7faa7c38-0b35-4768-9f7a-abb88f2b89ee",
   "metadata": {},
   "source": [
    "# Exercise 2"
   ]
  },
  {
   "cell_type": "code",
   "execution_count": 3,
   "id": "d847ba1a-6356-41be-b025-94cf4f643434",
   "metadata": {},
   "outputs": [
    {
     "name": "stdout",
     "output_type": "stream",
     "text": [
      "AMAN MUJEEB\n",
      "ICE20ME006\n",
      "amanmujeeb@gmail.com\n"
     ]
    }
   ],
   "source": [
    "# Define your details using escape sequences\n",
    "print(\"AMAN MUJEEB\\nICE20ME006\\namanmujeeb@gmail.com\")\n"
   ]
  },
  {
   "cell_type": "markdown",
   "id": "0e4fa0d9-db6b-4876-bba7-a4cfd20dc660",
   "metadata": {},
   "source": [
    "# Exercise 3"
   ]
  },
  {
   "cell_type": "code",
   "execution_count": 7,
   "id": "2713a127-7751-4c63-a1a5-47115c00cf62",
   "metadata": {},
   "outputs": [
    {
     "name": "stdout",
     "output_type": "stream",
     "text": [
      "x+y: 21\n",
      "x-y : 7\n",
      "x*y: 98\n",
      "x/y: 2.0\n"
     ]
    }
   ],
   "source": [
    "# Define the numbers\n",
    "x=14\n",
    "y=7\n",
    "add = x+y\n",
    "sub = x-y\n",
    "mul = x*y\n",
    "div = x/y\n",
    "print(\"x+y:\",add)\n",
    "print(\"x-y :\",sub)\n",
    "print(\"x*y:\",mul)\n",
    "print(\"x/y:\",div)"
   ]
  },
  {
   "cell_type": "markdown",
   "id": "86770abc-9f83-4144-bf7a-97258fda74b7",
   "metadata": {},
   "source": [
    "# Exercise 4"
   ]
  },
  {
   "cell_type": "code",
   "execution_count": 8,
   "id": "c6f542c1-d34b-4f77-b8de-6b679b99a144",
   "metadata": {},
   "outputs": [
    {
     "name": "stdout",
     "output_type": "stream",
     "text": [
      "1\n",
      "2\n",
      "3\n",
      "4\n",
      "5\n"
     ]
    }
   ],
   "source": [
    "#for Loop \n",
    "for number in range(1, 6):\n",
    "    print(number)\n"
   ]
  },
  {
   "cell_type": "markdown",
   "id": "eb95adb0-b18f-4b07-adf4-cfa31298dd1a",
   "metadata": {},
   "source": [
    "# Exercise 5"
   ]
  },
  {
   "cell_type": "code",
   "execution_count": 9,
   "id": "0bf619a8-96f8-4fb2-9006-18774bb53535",
   "metadata": {},
   "outputs": [
    {
     "name": "stdout",
     "output_type": "stream",
     "text": [
      "\"SDK\" stands for \"Software Development Kit\", whereas \n",
      "\"IDE\" stands for \"Integrated Development Environment\".\n"
     ]
    }
   ],
   "source": [
    "# Print the sentence with the required formatting\n",
    "print('\"SDK\" stands for \"Software Development Kit\", whereas \\n\"IDE\" stands for \"Integrated Development Environment\".')\n"
   ]
  },
  {
   "cell_type": "markdown",
   "id": "e7f0a574-5d22-4a3c-b81c-819fc1542825",
   "metadata": {},
   "source": [
    "# Exercise 6"
   ]
  },
  {
   "cell_type": "code",
   "execution_count": 10,
   "id": "a1cc4cad-3e05-4c38-b40b-24bd4091a3b4",
   "metadata": {},
   "outputs": [
    {
     "name": "stdout",
     "output_type": "stream",
     "text": [
      "python is an \"awesome\" language.\n",
      "python\n",
      "\t2023\n",
      "I'm from Entri\n",
      "5\n",
      "e\n",
      "Entri\n",
      "2023\n",
      "Entr2023\n",
      "Entri*20"
     ]
    }
   ],
   "source": [
    "print(\"python is an \\\"awesome\\\" language.\")\n",
    "print(\"python\\n\\t2023\")\n",
    "print('I\\'m from Entri.\\b')\n",
    "print(\"\\65\")\n",
    "print(\"\\x65\")\n",
    "print(\"Entri\", \"2023\", sep=\"\\n\")\n",
    "print(\"Entri\", \"2023\", sep=\"\\b\")\n",
    "print(\"Entri\", \"2023\", sep=\"*\", end=\"\\b\\b\\b\\b\")\n"
   ]
  },
  {
   "cell_type": "markdown",
   "id": "c3944c8b-161c-4bee-8baf-5eef6479123e",
   "metadata": {},
   "source": [
    "# Exercise 7"
   ]
  },
  {
   "cell_type": "code",
   "execution_count": 14,
   "id": "b9cd3ef4-d599-4c00-bc4e-f1079e3b5beb",
   "metadata": {},
   "outputs": [
    {
     "name": "stdout",
     "output_type": "stream",
     "text": [
      "Type of num: <class 'int'>\n",
      "Type of textnum: <class 'str'>\n",
      "Type of decimal: <class 'float'>\n",
      "Sum of variables: 178.3\n",
      "Type of the sum: <class 'float'>\n"
     ]
    }
   ],
   "source": [
    "num = 23\n",
    "textnum = \"57\"\n",
    "decimal = 98.3\n",
    "print(\"Type of num:\",type(num))\n",
    "print(\"Type of textnum:\",type(textnum))\n",
    "print(\"Type of decimal:\",type(decimal))\n",
    "textnum_as_int = int(textnum)\n",
    "sum_of_variables = num + textnum_as_int + decimal\n",
    "print(\"Sum of variables:\",sum_of_variables)\n",
    "print(\"Type of the sum:\",type(sum_of_variables))\n"
   ]
  },
  {
   "cell_type": "markdown",
   "id": "a7aacf40-2eaf-438d-84d7-9c217525b76d",
   "metadata": {},
   "source": [
    "# Exercise 8"
   ]
  },
  {
   "cell_type": "code",
   "execution_count": 15,
   "id": "d9157749-8159-451f-90bc-fbe40121cdc3",
   "metadata": {},
   "outputs": [
    {
     "name": "stdout",
     "output_type": "stream",
     "text": [
      "This program calculates the total number of minutes in a year.\n",
      "Number of days in a year: 365\n",
      "Number of hours in a day: 24\n",
      "Number of minutes in an hour: 60\n",
      "Total number of minutes in a year: 525600\n"
     ]
    }
   ],
   "source": [
    "# Define variables for the units of time\n",
    "days_in_year = 365  \n",
    "hours_in_day = 24   \n",
    "minutes_in_hour = 60  \n",
    "total_minutes_in_year = days_in_year * hours_in_day * minutes_in_hour\n",
    "print(\"This program calculates the total number of minutes in a year.\")\n",
    "print(\"Number of days in a year:\",days_in_year)\n",
    "print(\"Number of hours in a day:\",hours_in_day)\n",
    "print(\"Number of minutes in an hour:\",minutes_in_hour)\n",
    "print(\"Total number of minutes in a year:\",total_minutes_in_year)\n"
   ]
  },
  {
   "cell_type": "markdown",
   "id": "62354d8a-f7a8-4821-8922-891ece1919c7",
   "metadata": {},
   "source": [
    "# Exercise 9"
   ]
  },
  {
   "cell_type": "code",
   "execution_count": 17,
   "id": "93f7ae02-2444-4c8d-bee5-855b8e0cbe6a",
   "metadata": {},
   "outputs": [
    {
     "name": "stdin",
     "output_type": "stream",
     "text": [
      "Please enter your name:  aman mujeeb\n"
     ]
    },
    {
     "name": "stdout",
     "output_type": "stream",
     "text": [
      "Hi aman mujeeb, welcome to Python programming :)\n"
     ]
    }
   ],
   "source": [
    "# Ask the user to enter their name\n",
    "name = input(\"Please enter your name: \")\n",
    "\n",
    "# Print a greeting message\n",
    "print(f\"Hi {name}, welcome to Python programming :)\")\n"
   ]
  },
  {
   "cell_type": "markdown",
   "id": "19fd6f99-160b-415e-85ab-ce3242de683a",
   "metadata": {},
   "source": [
    "# Exercise 10"
   ]
  },
  {
   "cell_type": "code",
   "execution_count": 18,
   "id": "8e2d12be-2401-4143-81ce-df8ebe652889",
   "metadata": {},
   "outputs": [
    {
     "name": "stdin",
     "output_type": "stream",
     "text": [
      "Please enter amount in pounds:  100\n"
     ]
    },
    {
     "name": "stdout",
     "output_type": "stream",
     "text": [
      "£100.0 are $136.00\n"
     ]
    }
   ],
   "source": [
    "# Pounds to Dollars conversion rate (example rate)\n",
    "conversion_rate = 1.36  # Example rate: 1 GBP = 1.36 USD\n",
    "\n",
    "# Ask the user to enter an amount in pounds\n",
    "pounds = float(input(\"Please enter amount in pounds: \"))\n",
    "\n",
    "# Calculate the equivalent amount in dollars\n",
    "dollars = pounds * conversion_rate\n",
    "\n",
    "# Print the result\n",
    "print(f\"£{pounds} are ${dollars:.2f}\")\n"
   ]
  }
 ],
 "metadata": {
  "kernelspec": {
   "display_name": "Python 3 (ipykernel)",
   "language": "python",
   "name": "python3"
  },
  "language_info": {
   "codemirror_mode": {
    "name": "ipython",
    "version": 3
   },
   "file_extension": ".py",
   "mimetype": "text/x-python",
   "name": "python",
   "nbconvert_exporter": "python",
   "pygments_lexer": "ipython3",
   "version": "3.12.7"
  }
 },
 "nbformat": 4,
 "nbformat_minor": 5
}
