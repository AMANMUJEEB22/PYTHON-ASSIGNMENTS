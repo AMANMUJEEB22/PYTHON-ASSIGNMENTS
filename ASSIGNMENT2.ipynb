{
 "cells": [
  {
   "cell_type": "markdown",
   "id": "0a26a73c-f639-449a-926c-1c3f618e7334",
   "metadata": {},
   "source": [
    "# List execise "
   ]
  },
  {
   "cell_type": "code",
   "execution_count": 1,
   "id": "8c94820c-fae2-42eb-868d-9086de85c287",
   "metadata": {},
   "outputs": [
    {
     "name": "stdout",
     "output_type": "stream",
     "text": [
      "Original List: [48, 28, 78, 29, 29]\n"
     ]
    }
   ],
   "source": [
    "import random\n",
    "\n",
    "# Create a list of 5 random numbers\n",
    "random_numbers = [random.randint(1, 100) for _ in range(5)]\n",
    "print(\"Original List:\", random_numbers)\n"
   ]
  },
  {
   "cell_type": "code",
   "execution_count": 2,
   "id": "7c5906fe-b6d1-4b30-82f9-f1beacc6241e",
   "metadata": {},
   "outputs": [
    {
     "name": "stdout",
     "output_type": "stream",
     "text": [
      "Updated List: [48, 28, 78, 29, 29, 188, 185, 148]\n"
     ]
    }
   ],
   "source": [
    "# Insert 3 new values into the list\n",
    "random_numbers.extend([random.randint(101, 200) for _ in range(3)])\n",
    "print(\"Updated List:\", random_numbers)\n"
   ]
  },
  {
   "cell_type": "code",
   "execution_count": 3,
   "id": "3a0799f6-7b94-43d5-afba-27f2cae226ce",
   "metadata": {},
   "outputs": [
    {
     "name": "stdout",
     "output_type": "stream",
     "text": [
      "Elements in the list:\n",
      "48\n",
      "28\n",
      "78\n",
      "29\n",
      "29\n",
      "188\n",
      "185\n",
      "148\n"
     ]
    }
   ],
   "source": [
    "# Print each element using a for loop\n",
    "print(\"Elements in the list:\")\n",
    "for number in random_numbers:\n",
    "    print(number)\n"
   ]
  },
  {
   "cell_type": "markdown",
   "id": "915ad101-5d24-4062-a9d8-c2cf02d5f683",
   "metadata": {},
   "source": [
    "# Dictionary execise"
   ]
  },
  {
   "cell_type": "code",
   "execution_count": 4,
   "id": "b20d7e2d-44b1-48f9-b82e-734a0366a255",
   "metadata": {},
   "outputs": [
    {
     "name": "stdout",
     "output_type": "stream",
     "text": [
      "Original Dictionary: {'name': 'John', 'age': 25, 'address': 'New York'}\n"
     ]
    }
   ],
   "source": [
    "# Create the dictionary\n",
    "person_info = {\n",
    "    \"name\": \"John\",\n",
    "    \"age\": 25,\n",
    "    \"address\": \"New York\"\n",
    "}\n",
    "print(\"Original Dictionary:\", person_info)\n"
   ]
  },
  {
   "cell_type": "code",
   "execution_count": 5,
   "id": "54b7113b-b354-4aae-9a51-e5d9b64d8ff0",
   "metadata": {},
   "outputs": [
    {
     "name": "stdout",
     "output_type": "stream",
     "text": [
      "Updated Dictionary: {'name': 'John', 'age': 25, 'address': 'New York', 'phone': '1234567890'}\n"
     ]
    }
   ],
   "source": [
    "# Add a new key-value pair to the dictionary\n",
    "person_info[\"phone\"] = \"1234567890\"\n",
    "print(\"Updated Dictionary:\", person_info)\n"
   ]
  },
  {
   "cell_type": "markdown",
   "id": "f5c451aa-c853-4402-aadd-47d86999d3dd",
   "metadata": {},
   "source": [
    "# Set exercise "
   ]
  },
  {
   "cell_type": "code",
   "execution_count": 6,
   "id": "0d1c06af-6019-4c1f-8a56-c095292daf55",
   "metadata": {},
   "outputs": [
    {
     "name": "stdout",
     "output_type": "stream",
     "text": [
      "Original Set: {1, 2, 3, 4, 5}\n"
     ]
    }
   ],
   "source": [
    "# Create the set\n",
    "my_set = {1, 2, 3, 4, 5}\n",
    "print(\"Original Set:\", my_set)\n"
   ]
  },
  {
   "cell_type": "code",
   "execution_count": 7,
   "id": "62687ca2-9e54-4573-bb86-2220b8d25185",
   "metadata": {},
   "outputs": [
    {
     "name": "stdout",
     "output_type": "stream",
     "text": [
      "Set after adding 6: {1, 2, 3, 4, 5, 6}\n"
     ]
    }
   ],
   "source": [
    "# Add the value 6 to the set\n",
    "my_set.add(6)\n",
    "print(\"Set after adding 6:\", my_set)\n"
   ]
  },
  {
   "cell_type": "code",
   "execution_count": 8,
   "id": "df88b506-7b0a-4a15-970b-cc3ccaf40e83",
   "metadata": {},
   "outputs": [
    {
     "name": "stdout",
     "output_type": "stream",
     "text": [
      "Set after removing 3: {1, 2, 4, 5, 6}\n"
     ]
    }
   ],
   "source": [
    "# Remove the value 3 from the set\n",
    "my_set.remove(3)  \n",
    "print(\"Set after removing 3:\", my_set)\n"
   ]
  },
  {
   "cell_type": "markdown",
   "id": "9f941c9a-547b-491f-accc-9ad24ce58f22",
   "metadata": {},
   "source": [
    "# Tuple exercise "
   ]
  },
  {
   "cell_type": "code",
   "execution_count": 9,
   "id": "396892d4-1612-41ce-a638-07236c664b66",
   "metadata": {},
   "outputs": [
    {
     "name": "stdout",
     "output_type": "stream",
     "text": [
      "Tuple: (1, 2, 3, 4)\n"
     ]
    }
   ],
   "source": [
    "# Create the tuple\n",
    "my_tuple = (1, 2, 3, 4)\n",
    "print(\"Tuple:\", my_tuple)\n"
   ]
  },
  {
   "cell_type": "code",
   "execution_count": 10,
   "id": "47140871-8035-4a98-8c36-bd0f56845bd5",
   "metadata": {},
   "outputs": [
    {
     "name": "stdout",
     "output_type": "stream",
     "text": [
      "Length of the tuple: 4\n"
     ]
    }
   ],
   "source": [
    "# Print the length of the tuple\n",
    "print(\"Length of the tuple:\", len(my_tuple))\n"
   ]
  },
  {
   "cell_type": "code",
   "execution_count": null,
   "id": "eda2fdad-c3e6-4541-9d29-6b7f53f8f68c",
   "metadata": {},
   "outputs": [],
   "source": []
  }
 ],
 "metadata": {
  "kernelspec": {
   "display_name": "Python 3 (ipykernel)",
   "language": "python",
   "name": "python3"
  },
  "language_info": {
   "codemirror_mode": {
    "name": "ipython",
    "version": 3
   },
   "file_extension": ".py",
   "mimetype": "text/x-python",
   "name": "python",
   "nbconvert_exporter": "python",
   "pygments_lexer": "ipython3",
   "version": "3.12.7"
  }
 },
 "nbformat": 4,
 "nbformat_minor": 5
}
