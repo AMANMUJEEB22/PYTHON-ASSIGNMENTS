{
 "cells": [
  {
   "cell_type": "markdown",
   "id": "aa261308-bd57-46d9-8b76-957d03431216",
   "metadata": {},
   "source": [
    "# exercise 1"
   ]
  },
  {
   "cell_type": "code",
   "execution_count": 1,
   "id": "13961d65-28bd-4e64-bb37-dbc739d4118f",
   "metadata": {},
   "outputs": [
    {
     "name": "stdin",
     "output_type": "stream",
     "text": [
      "Enter the month (1-12):  3\n"
     ]
    },
    {
     "name": "stdout",
     "output_type": "stream",
     "text": [
      "Month 3 is March\n"
     ]
    }
   ],
   "source": [
    "# Dictionary to map month numbers to names\n",
    "months = {\n",
    "    1: \"January\",\n",
    "    2: \"February\",\n",
    "    3: \"March\",\n",
    "    4: \"April\",\n",
    "    5: \"May\",\n",
    "    6: \"June\",\n",
    "    7: \"July\",\n",
    "    8: \"August\",\n",
    "    9: \"September\",\n",
    "    10: \"October\",\n",
    "    11: \"November\",\n",
    "    12: \"December\"\n",
    "}\n",
    "\n",
    "month_number = int(input(\"Enter the month (1-12): \"))\n",
    "if 1 <= month_number <= 12:\n",
    "    print(f\"Month {month_number} is {months[month_number]}\")\n",
    "else:\n",
    "    print(\"Invalid month number. Please enter a number between 1 and 12.\")\n"
   ]
  },
  {
   "cell_type": "markdown",
   "id": "1362e09b-33ee-4ce1-86bd-9f1ba3e43689",
   "metadata": {},
   "source": [
    "# exercise 2"
   ]
  },
  {
   "cell_type": "code",
   "execution_count": 2,
   "id": "48dec299-6f38-4a47-b901-6b6efce07cad",
   "metadata": {},
   "outputs": [
    {
     "name": "stdin",
     "output_type": "stream",
     "text": [
      "Enter your age:  22\n"
     ]
    },
    {
     "name": "stdout",
     "output_type": "stream",
     "text": [
      "Your ticket costs £6.00\n"
     ]
    }
   ],
   "source": [
    "# CinemaTicketPrice.py\n",
    "\n",
    "FULL_PRICE = 6.00\n",
    "HALF_PRICE = FULL_PRICE / 2\n",
    "THIRD_PRICE = FULL_PRICE / 3\n",
    "\n",
    "age = int(input(\"Enter your age: \"))\n",
    "\n",
    "if age < 16:\n",
    "    ticket_price = HALF_PRICE\n",
    "elif age >= 60:\n",
    "    ticket_price = THIRD_PRICE\n",
    "else:\n",
    "    ticket_price = FULL_PRICE\n",
    "\n",
    "print(f\"Your ticket costs £{ticket_price:.2f}\")\n"
   ]
  },
  {
   "cell_type": "markdown",
   "id": "2ed34728-c701-4a51-8443-c790c34c38a3",
   "metadata": {},
   "source": [
    "# exercise 3"
   ]
  },
  {
   "cell_type": "code",
   "execution_count": 4,
   "id": "0728305e-5c64-4d52-9698-be1d482065a0",
   "metadata": {},
   "outputs": [
    {
     "name": "stdin",
     "output_type": "stream",
     "text": [
      "Enter your weight in (kg):  61\n",
      "Enter your height in (m):  170\n"
     ]
    },
    {
     "name": "stdout",
     "output_type": "stream",
     "text": [
      "Your BMI is: 0.00\n",
      "You are in the “underweight” range.\n"
     ]
    }
   ],
   "source": [
    "# BodyMassIndex.py\n",
    "\n",
    "def calculate_bmi(weight, height):\n",
    "    return weight / (height ** 2)\n",
    "\n",
    "def get_weight_status(bmi):\n",
    "    if bmi < 18.5:\n",
    "        return \"underweight\"\n",
    "    elif 18.5 <= bmi <= 24.9:\n",
    "        return \"normal\"\n",
    "    elif 25 <= bmi <= 29.9:\n",
    "        return \"overweight\"\n",
    "    else:\n",
    "        return \"obese\"\n",
    "\n",
    "weight = float(input(\"Enter your weight in (kg): \"))\n",
    "height = float(input(\"Enter your height in (m): \"))\n",
    "\n",
    "bmi = calculate_bmi(weight, height)\n",
    "\n",
    "status = get_weight_status(bmi)\n",
    "\n",
    "print(f\"Your BMI is: {bmi:.2f}\")\n",
    "print(f\"You are in the “{status}” range.\")\n"
   ]
  },
  {
   "cell_type": "markdown",
   "id": "27344eb7-090e-493d-8293-4090f1a5e233",
   "metadata": {},
   "source": [
    "# exercise 4"
   ]
  },
  {
   "cell_type": "code",
   "execution_count": 5,
   "id": "066ac5be-ed8a-4de4-8cf4-b3c5bc71ee40",
   "metadata": {},
   "outputs": [
    {
     "name": "stdin",
     "output_type": "stream",
     "text": [
      "Enter the first number:  5\n",
      "Enter the second number:  7\n",
      "Enter the third number:  9\n"
     ]
    },
    {
     "name": "stdout",
     "output_type": "stream",
     "text": [
      "The greatest number is: 9.0\n"
     ]
    }
   ],
   "source": [
    "# GreatestNumber.py\n",
    "\n",
    "\n",
    "num1 = float(input(\"Enter the first number: \"))\n",
    "num2 = float(input(\"Enter the second number: \"))\n",
    "num3 = float(input(\"Enter the third number: \"))\n",
    "\n",
    "if num1 >= num2 and num1 >= num3:\n",
    "    greatest = num1\n",
    "elif num2 >= num1 and num2 >= num3:\n",
    "    greatest = num2\n",
    "else:\n",
    "    greatest = num3\n",
    "\n",
    "print(f\"The greatest number is: {greatest}\")\n"
   ]
  },
  {
   "cell_type": "markdown",
   "id": "6ceb8ca3-0f03-4380-a31d-957d95852f66",
   "metadata": {},
   "source": [
    "# exercise 5"
   ]
  },
  {
   "cell_type": "code",
   "execution_count": 6,
   "id": "cef8f34d-3599-4365-b2bc-7e926ec4b68d",
   "metadata": {},
   "outputs": [
    {
     "name": "stdin",
     "output_type": "stream",
     "text": [
      "Enter a non-negative integer:  5\n"
     ]
    },
    {
     "name": "stdout",
     "output_type": "stream",
     "text": [
      "The factorial of 5 is 120.\n"
     ]
    }
   ],
   "source": [
    "# FactorialCalculator.py\n",
    "\n",
    "num = int(input(\"Enter a non-negative integer: \"))\n",
    "factorial = 1\n",
    "if num < 0:\n",
    "    print(\"Factorial is not defined for negative numbers.\")\n",
    "elif num == 0 or num == 1:\n",
    "    print(f\"The factorial of {num} is 1.\")\n",
    "else:\n",
    "    for i in range(1, num + 1):\n",
    "        factorial *= i\n",
    "    print(f\"The factorial of {num} is {factorial}.\")\n"
   ]
  },
  {
   "cell_type": "markdown",
   "id": "a8ca4e95-6490-4fc4-bead-c3b62c90d9b4",
   "metadata": {},
   "source": [
    "# exercise 6"
   ]
  },
  {
   "cell_type": "code",
   "execution_count": 8,
   "id": "2971c128-f1a9-4ade-bfc6-9bffb03e9b8a",
   "metadata": {},
   "outputs": [
    {
     "name": "stdin",
     "output_type": "stream",
     "text": [
      "Enter a number:  56\n"
     ]
    },
    {
     "name": "stdout",
     "output_type": "stream",
     "text": [
      "The reverse of 56 is 65.\n"
     ]
    }
   ],
   "source": [
    "# ReverseNumber.py\n",
    "\n",
    "num = int(input(\"Enter a number: \"))\n",
    "reversed_num = 0\n",
    "\n",
    "original_num = num  \n",
    "while num != 0:\n",
    "    digit = num % 10  \n",
    "    reversed_num = reversed_num * 10 + digit \n",
    "    num //= 10  \n",
    "\n",
    "print(f\"The reverse of {original_num} is {reversed_num}.\")\n"
   ]
  },
  {
   "cell_type": "markdown",
   "id": "2bb86621-15a3-4e34-9023-19b0e6d7cab8",
   "metadata": {},
   "source": [
    "# exercise 7"
   ]
  },
  {
   "cell_type": "code",
   "execution_count": 10,
   "id": "3109fe87-f642-4590-b28c-351c76ee3726",
   "metadata": {},
   "outputs": [
    {
     "name": "stdin",
     "output_type": "stream",
     "text": [
      "Enter a number:  7\n",
      "Enter the limit up to which you want to find multiples:  70\n"
     ]
    },
    {
     "name": "stdout",
     "output_type": "stream",
     "text": [
      "Multiples of 7 up to 70 are:\n",
      "7\n",
      "14\n",
      "21\n",
      "28\n",
      "35\n",
      "42\n",
      "49\n",
      "56\n",
      "63\n",
      "70\n"
     ]
    }
   ],
   "source": [
    "# MultiplesFinder.py\n",
    "\n",
    "\n",
    "num = int(input(\"Enter a number: \"))\n",
    "limit = int(input(\"Enter the limit up to which you want to find multiples: \"))\n",
    "\n",
    "print(f\"Multiples of {num} up to {limit} are:\")\n",
    "for i in range(1, limit + 1):\n",
    "    if i % num == 0:\n",
    "        print(i)\n"
   ]
  },
  {
   "cell_type": "markdown",
   "id": "76338f93-f9c8-4f09-ab4b-e1e9da4cfff4",
   "metadata": {},
   "source": [
    "# exercise 8"
   ]
  },
  {
   "cell_type": "code",
   "execution_count": null,
   "id": "b1eaf16f-46ab-40a3-9cdd-ef4bfdf64a43",
   "metadata": {},
   "outputs": [],
   "source": [
    "# FizzBuzz.py\n",
    "\n",
    "# Loop through numbers from 1 to 10\n",
    "for num in range(1, 11):\n",
    "    if num % 3 == 0 and num % 5 == 0:  # Check for multiples of both 3 and 5\n",
    "        print(\"FizzBuzz\")\n",
    "    elif num % 3 == 0:  # Check for multiples of 3\n",
    "        print(\"Fizz\")\n",
    "    elif num % 5 == 0:  # Check for multiples of 5\n",
    "        print(\"Buzz\")\n",
    "    else:\n",
    "        print(num)  # Print the number if it's not a multiple of 3 or 5\n"
   ]
  },
  {
   "cell_type": "markdown",
   "id": "c0aceacc-66cb-416b-845b-ce1972af27b8",
   "metadata": {},
   "source": [
    "# exercise 9"
   ]
  },
  {
   "cell_type": "code",
   "execution_count": null,
   "id": "9b7c8d10-994b-4272-845e-eba4fb29d1aa",
   "metadata": {},
   "outputs": [],
   "source": [
    "# FizzBuzzAlternative.py\n",
    "\n",
    "# Function to print FizzBuzz for a given range\n",
    "def fizz_buzz(start, end):\n",
    "    for num in range(start, end + 1):\n",
    "        output = \"\"\n",
    "        if num % 3 == 0:\n",
    "            output += \"Fizz\"\n",
    "        if num % 5 == 0:\n",
    "            output += \"Buzz\"\n",
    "        \n",
    "        # If the output is still empty, it's not a multiple of 3 or 5\n",
    "        print(output if output else num)\n",
    "\n",
    "# Call the function for the range 1 to 10\n",
    "fizz_buzz(1, 10)\n"
   ]
  },
  {
   "cell_type": "markdown",
   "id": "512ac316-3b56-4133-9423-cdb1c1c6a097",
   "metadata": {},
   "source": [
    "# execise 10"
   ]
  },
  {
   "cell_type": "code",
   "execution_count": null,
   "id": "62f33c63-2e9b-42e3-9557-70d9adf64106",
   "metadata": {},
   "outputs": [],
   "source": [
    "# PatternPrinter.py\n",
    "\n",
    "# Loop to print the pattern\n",
    "for i in range(5, 0, -1):  # Start from 5 and decrease until 1\n",
    "    for j in range(i, 0, -1):  # Print numbers from i down to 1\n",
    "        print(j, end=\" \")\n",
    "    print()  # Move to the next line after each row\n"
   ]
  },
  {
   "cell_type": "code",
   "execution_count": null,
   "id": "1809c43f-a615-4235-95f6-9833f8e19e38",
   "metadata": {},
   "outputs": [],
   "source": []
  }
 ],
 "metadata": {
  "kernelspec": {
   "display_name": "Python 3 (ipykernel)",
   "language": "python",
   "name": "python3"
  },
  "language_info": {
   "codemirror_mode": {
    "name": "ipython",
    "version": 3
   },
   "file_extension": ".py",
   "mimetype": "text/x-python",
   "name": "python",
   "nbconvert_exporter": "python",
   "pygments_lexer": "ipython3",
   "version": "3.12.7"
  }
 },
 "nbformat": 4,
 "nbformat_minor": 5
}
