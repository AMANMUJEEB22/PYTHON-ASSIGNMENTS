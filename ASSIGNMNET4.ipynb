{
 "cells": [
  {
   "cell_type": "markdown",
   "id": "98e4ede6-e5be-457d-a626-47b3b311f58d",
   "metadata": {},
   "source": [
    "# Exercise1"
   ]
  },
  {
   "cell_type": "code",
   "execution_count": 1,
   "id": "039e6d36-3441-436e-baeb-f44bcc6e2db2",
   "metadata": {},
   "outputs": [
    {
     "name": "stdout",
     "output_type": "stream",
     "text": [
      "Length of the list: 5\n"
     ]
    }
   ],
   "source": [
    "# The len() function in Python returns the number of items in an object (e.g., list, string, tuple, etc.).\n",
    "# Example usage of len() to find the length of a list:\n",
    "my_list = [10, 20, 30, 40, 50]\n",
    "print(\"Length of the list:\", len(my_list))\n"
   ]
  },
  {
   "cell_type": "markdown",
   "id": "ea8f4abc-56d4-40b5-b604-c1deabe2f100",
   "metadata": {},
   "source": [
    "# Exercise2"
   ]
  },
  {
   "cell_type": "code",
   "execution_count": 2,
   "id": "9670f9c0-3624-4b58-8e7e-49e0242414f1",
   "metadata": {},
   "outputs": [
    {
     "name": "stdout",
     "output_type": "stream",
     "text": [
      "Hello, Alice!\n"
     ]
    }
   ],
   "source": [
    "def greet(name):\n",
    "    print(f\"Hello, {name}!\")\n",
    "\n",
    "# Example usage\n",
    "greet(\"Alice\")\n"
   ]
  },
  {
   "cell_type": "markdown",
   "id": "1abe3396-451b-4bce-89db-26a754637216",
   "metadata": {},
   "source": [
    "# Exercise3"
   ]
  },
  {
   "cell_type": "code",
   "execution_count": 3,
   "id": "ce2ac353-1e88-44ab-85de-29867491010c",
   "metadata": {},
   "outputs": [
    {
     "name": "stdout",
     "output_type": "stream",
     "text": [
      "Maximum value in the list: 89\n"
     ]
    }
   ],
   "source": [
    "def find_maximum(numbers):\n",
    "    if not numbers:\n",
    "        return None  # Return None if the list is empty\n",
    "    max_value = numbers[0]  # Assume the first number is the maximum\n",
    "    for num in numbers:\n",
    "        if num > max_value:\n",
    "            max_value = num  # Update max_value if a larger number is found\n",
    "    return max_value\n",
    "\n",
    "# Example usage\n",
    "num_list = [12, 45, 78, 34, 89, 23]\n",
    "print(\"Maximum value in the list:\", find_maximum(num_list))\n"
   ]
  },
  {
   "cell_type": "markdown",
   "id": "dca9e220-cb80-4db9-ad31-8b25737b11ca",
   "metadata": {},
   "source": [
    "# Exercise4"
   ]
  },
  {
   "cell_type": "code",
   "execution_count": 4,
   "id": "03974849-96f4-4012-9d9b-ff7d20b4ca56",
   "metadata": {},
   "outputs": [
    {
     "name": "stdout",
     "output_type": "stream",
     "text": [
      "Inside function: I am a local variable\n",
      "Outside function: I am a global variable\n"
     ]
    }
   ],
   "source": [
    "# Global variable\n",
    "message = \"I am a global variable\"\n",
    "\n",
    "def show_message():\n",
    "    # Local variable with the same name as the global variable\n",
    "    message = \"I am a local variable\"\n",
    "    print(\"Inside function:\", message)  # Refers to the local variable\n",
    "\n",
    "# Calling the function\n",
    "show_message()\n",
    "\n",
    "# Printing the global variable\n",
    "print(\"Outside function:\", message)  # Refers to the global variable\n"
   ]
  },
  {
   "cell_type": "markdown",
   "id": "5f99069d-f05e-4c44-9319-e1f28283ed84",
   "metadata": {},
   "source": [
    "# Exercise5"
   ]
  },
  {
   "cell_type": "code",
   "execution_count": 5,
   "id": "1a083c32-67a6-4650-8844-6e2a7c5ba729",
   "metadata": {},
   "outputs": [
    {
     "name": "stdout",
     "output_type": "stream",
     "text": [
      "Area with length 10 and default width: 50\n",
      "Area with length 10 and width 7: 70\n"
     ]
    }
   ],
   "source": [
    "def calculate_area(length, width=5):\n",
    "    return length * width\n",
    "\n",
    "# Calling the function with only the length argument\n",
    "print(\"Area with length 10 and default width:\", calculate_area(10))\n",
    "\n",
    "# Calling the function with both length and width arguments\n",
    "print(\"Area with length 10 and width 7:\", calculate_area(10, 7))\n"
   ]
  },
  {
   "cell_type": "code",
   "execution_count": null,
   "id": "ddcf6b47-3532-4b6a-a6c4-b8ad7bdfde6c",
   "metadata": {},
   "outputs": [],
   "source": []
  }
 ],
 "metadata": {
  "kernelspec": {
   "display_name": "Python 3 (ipykernel)",
   "language": "python",
   "name": "python3"
  },
  "language_info": {
   "codemirror_mode": {
    "name": "ipython",
    "version": 3
   },
   "file_extension": ".py",
   "mimetype": "text/x-python",
   "name": "python",
   "nbconvert_exporter": "python",
   "pygments_lexer": "ipython3",
   "version": "3.12.7"
  }
 },
 "nbformat": 4,
 "nbformat_minor": 5
}
