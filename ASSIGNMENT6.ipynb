{
 "cells": [
  {
   "cell_type": "markdown",
   "id": "2fc9173c-9939-4d84-89df-d39218860be9",
   "metadata": {},
   "source": [
    "# exercise 1"
   ]
  },
  {
   "cell_type": "code",
   "execution_count": 1,
   "id": "9ac02698-507a-4528-bb03-5f0c44427226",
   "metadata": {},
   "outputs": [
    {
     "name": "stdout",
     "output_type": "stream",
     "text": [
      "Course Code: CS101, Name: Introduction to Computer Science, Credit Hours: 3, Required for Major: Yes\n",
      "Course Code: HIS202, Name: World History, Credit Hours: 2, Elective Type: liberal arts\n"
     ]
    }
   ],
   "source": [
    "class Course:\n",
    "    def __init__(self, course_code, course_name, credit_hours):\n",
    "        self.course_code = course_code\n",
    "        self.course_name = course_name\n",
    "        self.credit_hours = credit_hours\n",
    "\n",
    "    def display_info(self):\n",
    "        return f\"Course Code: {self.course_code}, Name: {self.course_name}, Credit Hours: {self.credit_hours}\"\n",
    "\n",
    "class CoreCourse(Course):\n",
    "    def __init__(self, course_code, course_name, credit_hours, required_for_major):\n",
    "        super().__init__(course_code, course_name, credit_hours)\n",
    "        self.required_for_major = required_for_major\n",
    "\n",
    "    def display_info(self):\n",
    "        return super().display_info() + f\", Required for Major: {'Yes' if self.required_for_major else 'No'}\"\n",
    "\n",
    "class ElectiveCourse(Course):\n",
    "    def __init__(self, course_code, course_name, credit_hours, elective_type):\n",
    "        super().__init__(course_code, course_name, credit_hours)\n",
    "        self.elective_type = elective_type\n",
    "\n",
    "    def display_info(self):\n",
    "        return super().display_info() + f\", Elective Type: {self.elective_type}\"\n",
    "\n",
    "# Example usage:\n",
    "core_course = CoreCourse(\"CS101\", \"Introduction to Computer Science\", 3, True)\n",
    "elective_course = ElectiveCourse(\"HIS202\", \"World History\", 2, \"liberal arts\")\n",
    "\n",
    "print(core_course.display_info())\n",
    "print(elective_course.display_info())\n"
   ]
  },
  {
   "cell_type": "markdown",
   "id": "1495b83a-6d08-4b58-a944-6292d9a5a2a8",
   "metadata": {},
   "source": [
    "# exercise 2"
   ]
  },
  {
   "cell_type": "code",
   "execution_count": null,
   "id": "1ac1f2ec-397a-400b-96f6-ac481fd57fd0",
   "metadata": {},
   "outputs": [],
   "source": [
    "class Employee:\n",
    "    def __init__(self, name, salary):\n",
    "        self._name = name  # Making attributes private\n",
    "        self._salary = salary\n",
    "\n",
    "    def get_name(self):\n",
    "        return self._name\n",
    "\n",
    "    def get_salary(self):\n",
    "        return self._salary\n",
    "from employee import Employee\n",
    "\n",
    "# Creating an Employee object\n",
    "emp = Employee(\"John Doe\", 50000)\n",
    "\n",
    "# Displaying Employee details\n",
    "print(\"Employee Details:\")\n",
    "print(f\"Name: {emp.get_name()}\")\n",
    "print(f\"Salary: ${emp.get_salary():,.2f}\")  # Formatting salary for readability\n"
   ]
  }
 ],
 "metadata": {
  "kernelspec": {
   "display_name": "Python 3 (ipykernel)",
   "language": "python",
   "name": "python3"
  },
  "language_info": {
   "codemirror_mode": {
    "name": "ipython",
    "version": 3
   },
   "file_extension": ".py",
   "mimetype": "text/x-python",
   "name": "python",
   "nbconvert_exporter": "python",
   "pygments_lexer": "ipython3",
   "version": "3.12.7"
  }
 },
 "nbformat": 4,
 "nbformat_minor": 5
}
